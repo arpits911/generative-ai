{
 "cells": [
  {
   "cell_type": "code",
   "execution_count": 1,
   "id": "15113873",
   "metadata": {},
   "outputs": [
    {
     "name": "stdout",
     "output_type": "stream",
     "text": [
      "Requirement already satisfied: openai in /Users/arpitsingh/Desktop/workspaces/github_codes/env/lib/python3.9/site-packages (1.101.0)\n",
      "Requirement already satisfied: dotenv in /Users/arpitsingh/Desktop/workspaces/github_codes/env/lib/python3.9/site-packages (0.9.9)\n",
      "Requirement already satisfied: anyio<5,>=3.5.0 in /Users/arpitsingh/Desktop/workspaces/github_codes/env/lib/python3.9/site-packages (from openai) (4.9.0)\n",
      "Requirement already satisfied: distro<2,>=1.7.0 in /Users/arpitsingh/Desktop/workspaces/github_codes/env/lib/python3.9/site-packages (from openai) (1.9.0)\n",
      "Requirement already satisfied: httpx<1,>=0.23.0 in /Users/arpitsingh/Desktop/workspaces/github_codes/env/lib/python3.9/site-packages (from openai) (0.28.1)\n",
      "Requirement already satisfied: jiter<1,>=0.4.0 in /Users/arpitsingh/Desktop/workspaces/github_codes/env/lib/python3.9/site-packages (from openai) (0.10.0)\n",
      "Requirement already satisfied: pydantic<3,>=1.9.0 in /Users/arpitsingh/Desktop/workspaces/github_codes/env/lib/python3.9/site-packages (from openai) (2.11.7)\n",
      "Requirement already satisfied: sniffio in /Users/arpitsingh/Desktop/workspaces/github_codes/env/lib/python3.9/site-packages (from openai) (1.3.1)\n",
      "Requirement already satisfied: tqdm>4 in /Users/arpitsingh/Desktop/workspaces/github_codes/env/lib/python3.9/site-packages (from openai) (4.67.1)\n",
      "Requirement already satisfied: typing-extensions<5,>=4.11 in /Users/arpitsingh/Desktop/workspaces/github_codes/env/lib/python3.9/site-packages (from openai) (4.14.1)\n",
      "Requirement already satisfied: exceptiongroup>=1.0.2 in /Users/arpitsingh/Desktop/workspaces/github_codes/env/lib/python3.9/site-packages (from anyio<5,>=3.5.0->openai) (1.3.0)\n",
      "Requirement already satisfied: idna>=2.8 in /Users/arpitsingh/Desktop/workspaces/github_codes/env/lib/python3.9/site-packages (from anyio<5,>=3.5.0->openai) (3.10)\n",
      "Requirement already satisfied: certifi in /Users/arpitsingh/Desktop/workspaces/github_codes/env/lib/python3.9/site-packages (from httpx<1,>=0.23.0->openai) (2025.7.14)\n",
      "Requirement already satisfied: httpcore==1.* in /Users/arpitsingh/Desktop/workspaces/github_codes/env/lib/python3.9/site-packages (from httpx<1,>=0.23.0->openai) (1.0.9)\n",
      "Requirement already satisfied: h11>=0.16 in /Users/arpitsingh/Desktop/workspaces/github_codes/env/lib/python3.9/site-packages (from httpcore==1.*->httpx<1,>=0.23.0->openai) (0.16.0)\n",
      "Requirement already satisfied: annotated-types>=0.6.0 in /Users/arpitsingh/Desktop/workspaces/github_codes/env/lib/python3.9/site-packages (from pydantic<3,>=1.9.0->openai) (0.7.0)\n",
      "Requirement already satisfied: pydantic-core==2.33.2 in /Users/arpitsingh/Desktop/workspaces/github_codes/env/lib/python3.9/site-packages (from pydantic<3,>=1.9.0->openai) (2.33.2)\n",
      "Requirement already satisfied: typing-inspection>=0.4.0 in /Users/arpitsingh/Desktop/workspaces/github_codes/env/lib/python3.9/site-packages (from pydantic<3,>=1.9.0->openai) (0.4.1)\n",
      "Requirement already satisfied: python-dotenv in /Users/arpitsingh/Desktop/workspaces/github_codes/env/lib/python3.9/site-packages (from dotenv) (1.1.1)\n",
      "\n",
      "\u001b[1m[\u001b[0m\u001b[34;49mnotice\u001b[0m\u001b[1;39;49m]\u001b[0m\u001b[39;49m A new release of pip is available: \u001b[0m\u001b[31;49m25.1.1\u001b[0m\u001b[39;49m -> \u001b[0m\u001b[32;49m25.2\u001b[0m\n",
      "\u001b[1m[\u001b[0m\u001b[34;49mnotice\u001b[0m\u001b[1;39;49m]\u001b[0m\u001b[39;49m To update, run: \u001b[0m\u001b[32;49mpip install --upgrade pip\u001b[0m\n",
      "Note: you may need to restart the kernel to use updated packages.\n"
     ]
    }
   ],
   "source": [
    "pip install openai dotenv"
   ]
  },
  {
   "cell_type": "code",
   "execution_count": 71,
   "id": "6a77ec4b",
   "metadata": {},
   "outputs": [
    {
     "name": "stdout",
     "output_type": "stream",
     "text": [
      "Requirement already satisfied: google-generativeai in /Users/arpitsingh/Desktop/workspaces/github_codes/env/lib/python3.9/site-packages (0.8.5)\n",
      "Requirement already satisfied: google-ai-generativelanguage==0.6.15 in /Users/arpitsingh/Desktop/workspaces/github_codes/env/lib/python3.9/site-packages (from google-generativeai) (0.6.15)\n",
      "Requirement already satisfied: google-api-core in /Users/arpitsingh/Desktop/workspaces/github_codes/env/lib/python3.9/site-packages (from google-generativeai) (2.25.1)\n",
      "Requirement already satisfied: google-api-python-client in /Users/arpitsingh/Desktop/workspaces/github_codes/env/lib/python3.9/site-packages (from google-generativeai) (2.179.0)\n",
      "Requirement already satisfied: google-auth>=2.15.0 in /Users/arpitsingh/Desktop/workspaces/github_codes/env/lib/python3.9/site-packages (from google-generativeai) (2.40.3)\n",
      "Requirement already satisfied: protobuf in /Users/arpitsingh/Desktop/workspaces/github_codes/env/lib/python3.9/site-packages (from google-generativeai) (5.29.5)\n",
      "Requirement already satisfied: pydantic in /Users/arpitsingh/Desktop/workspaces/github_codes/env/lib/python3.9/site-packages (from google-generativeai) (2.11.7)\n",
      "Requirement already satisfied: tqdm in /Users/arpitsingh/Desktop/workspaces/github_codes/env/lib/python3.9/site-packages (from google-generativeai) (4.67.1)\n",
      "Requirement already satisfied: typing-extensions in /Users/arpitsingh/Desktop/workspaces/github_codes/env/lib/python3.9/site-packages (from google-generativeai) (4.14.1)\n",
      "Requirement already satisfied: proto-plus<2.0.0dev,>=1.22.3 in /Users/arpitsingh/Desktop/workspaces/github_codes/env/lib/python3.9/site-packages (from google-ai-generativelanguage==0.6.15->google-generativeai) (1.26.1)\n",
      "Requirement already satisfied: googleapis-common-protos<2.0.0,>=1.56.2 in /Users/arpitsingh/Desktop/workspaces/github_codes/env/lib/python3.9/site-packages (from google-api-core->google-generativeai) (1.70.0)\n",
      "Requirement already satisfied: requests<3.0.0,>=2.18.0 in /Users/arpitsingh/Desktop/workspaces/github_codes/env/lib/python3.9/site-packages (from google-api-core->google-generativeai) (2.32.4)\n",
      "Requirement already satisfied: grpcio<2.0.0,>=1.33.2 in /Users/arpitsingh/Desktop/workspaces/github_codes/env/lib/python3.9/site-packages (from google-api-core[grpc]!=2.0.*,!=2.1.*,!=2.10.*,!=2.2.*,!=2.3.*,!=2.4.*,!=2.5.*,!=2.6.*,!=2.7.*,!=2.8.*,!=2.9.*,<3.0.0dev,>=1.34.1->google-ai-generativelanguage==0.6.15->google-generativeai) (1.74.0)\n",
      "Requirement already satisfied: grpcio-status<2.0.0,>=1.33.2 in /Users/arpitsingh/Desktop/workspaces/github_codes/env/lib/python3.9/site-packages (from google-api-core[grpc]!=2.0.*,!=2.1.*,!=2.10.*,!=2.2.*,!=2.3.*,!=2.4.*,!=2.5.*,!=2.6.*,!=2.7.*,!=2.8.*,!=2.9.*,<3.0.0dev,>=1.34.1->google-ai-generativelanguage==0.6.15->google-generativeai) (1.71.2)\n",
      "Requirement already satisfied: cachetools<6.0,>=2.0.0 in /Users/arpitsingh/Desktop/workspaces/github_codes/env/lib/python3.9/site-packages (from google-auth>=2.15.0->google-generativeai) (5.5.2)\n",
      "Requirement already satisfied: pyasn1-modules>=0.2.1 in /Users/arpitsingh/Desktop/workspaces/github_codes/env/lib/python3.9/site-packages (from google-auth>=2.15.0->google-generativeai) (0.4.2)\n",
      "Requirement already satisfied: rsa<5,>=3.1.4 in /Users/arpitsingh/Desktop/workspaces/github_codes/env/lib/python3.9/site-packages (from google-auth>=2.15.0->google-generativeai) (4.9.1)\n",
      "Requirement already satisfied: charset_normalizer<4,>=2 in /Users/arpitsingh/Desktop/workspaces/github_codes/env/lib/python3.9/site-packages (from requests<3.0.0,>=2.18.0->google-api-core->google-generativeai) (3.4.2)\n",
      "Requirement already satisfied: idna<4,>=2.5 in /Users/arpitsingh/Desktop/workspaces/github_codes/env/lib/python3.9/site-packages (from requests<3.0.0,>=2.18.0->google-api-core->google-generativeai) (3.10)\n",
      "Requirement already satisfied: urllib3<3,>=1.21.1 in /Users/arpitsingh/Desktop/workspaces/github_codes/env/lib/python3.9/site-packages (from requests<3.0.0,>=2.18.0->google-api-core->google-generativeai) (2.5.0)\n",
      "Requirement already satisfied: certifi>=2017.4.17 in /Users/arpitsingh/Desktop/workspaces/github_codes/env/lib/python3.9/site-packages (from requests<3.0.0,>=2.18.0->google-api-core->google-generativeai) (2025.7.14)\n",
      "Requirement already satisfied: pyasn1>=0.1.3 in /Users/arpitsingh/Desktop/workspaces/github_codes/env/lib/python3.9/site-packages (from rsa<5,>=3.1.4->google-auth>=2.15.0->google-generativeai) (0.6.1)\n",
      "Requirement already satisfied: httplib2<1.0.0,>=0.19.0 in /Users/arpitsingh/Desktop/workspaces/github_codes/env/lib/python3.9/site-packages (from google-api-python-client->google-generativeai) (0.22.0)\n",
      "Requirement already satisfied: google-auth-httplib2<1.0.0,>=0.2.0 in /Users/arpitsingh/Desktop/workspaces/github_codes/env/lib/python3.9/site-packages (from google-api-python-client->google-generativeai) (0.2.0)\n",
      "Requirement already satisfied: uritemplate<5,>=3.0.1 in /Users/arpitsingh/Desktop/workspaces/github_codes/env/lib/python3.9/site-packages (from google-api-python-client->google-generativeai) (4.2.0)\n",
      "Requirement already satisfied: pyparsing!=3.0.0,!=3.0.1,!=3.0.2,!=3.0.3,<4,>=2.4.2 in /Users/arpitsingh/Desktop/workspaces/github_codes/env/lib/python3.9/site-packages (from httplib2<1.0.0,>=0.19.0->google-api-python-client->google-generativeai) (3.2.3)\n",
      "Requirement already satisfied: annotated-types>=0.6.0 in /Users/arpitsingh/Desktop/workspaces/github_codes/env/lib/python3.9/site-packages (from pydantic->google-generativeai) (0.7.0)\n",
      "Requirement already satisfied: pydantic-core==2.33.2 in /Users/arpitsingh/Desktop/workspaces/github_codes/env/lib/python3.9/site-packages (from pydantic->google-generativeai) (2.33.2)\n",
      "Requirement already satisfied: typing-inspection>=0.4.0 in /Users/arpitsingh/Desktop/workspaces/github_codes/env/lib/python3.9/site-packages (from pydantic->google-generativeai) (0.4.1)\n",
      "\n",
      "\u001b[1m[\u001b[0m\u001b[34;49mnotice\u001b[0m\u001b[1;39;49m]\u001b[0m\u001b[39;49m A new release of pip is available: \u001b[0m\u001b[31;49m25.1.1\u001b[0m\u001b[39;49m -> \u001b[0m\u001b[32;49m25.2\u001b[0m\n",
      "\u001b[1m[\u001b[0m\u001b[34;49mnotice\u001b[0m\u001b[1;39;49m]\u001b[0m\u001b[39;49m To update, run: \u001b[0m\u001b[32;49mpip install --upgrade pip\u001b[0m\n",
      "Note: you may need to restart the kernel to use updated packages.\n"
     ]
    }
   ],
   "source": [
    "pip install google-generativeai"
   ]
  },
  {
   "cell_type": "code",
   "execution_count": 2,
   "id": "277c5339",
   "metadata": {},
   "outputs": [
    {
     "name": "stderr",
     "output_type": "stream",
     "text": [
      "/Users/arpitsingh/Desktop/workspaces/github_codes/env/lib/python3.9/site-packages/urllib3/__init__.py:35: NotOpenSSLWarning: urllib3 v2 only supports OpenSSL 1.1.1+, currently the 'ssl' module is compiled with 'LibreSSL 2.8.3'. See: https://github.com/urllib3/urllib3/issues/3020\n",
      "  warnings.warn(\n",
      "/Users/arpitsingh/Desktop/workspaces/github_codes/env/lib/python3.9/site-packages/tqdm/auto.py:21: TqdmWarning: IProgress not found. Please update jupyter and ipywidgets. See https://ipywidgets.readthedocs.io/en/stable/user_install.html\n",
      "  from .autonotebook import tqdm as notebook_tqdm\n"
     ]
    }
   ],
   "source": [
    "import os\n",
    "# from openai import OpenAI\n",
    "import google.generativeai as genai\n",
    "\n",
    "from dotenv import load_dotenv, find_dotenv\n",
    "\n",
    "# Load your .env file\n",
    "load_dotenv()  # reads .env into environment variables\n",
    "\n",
    "# Get the API key from the environment\n",
    "api_key = os.getenv('GEMINI_API_KEY')\n",
    "\n",
    "# Create the OpenAI client with the key\n",
    "# client = OpenAI(api_key=api_key)\n",
    "genai.configure(api_key=api_key)"
   ]
  },
  {
   "cell_type": "code",
   "execution_count": 3,
   "id": "8aeeec10",
   "metadata": {},
   "outputs": [],
   "source": [
    "import google.generativeai as genai\n",
    "\n",
    "# # Configure Gemini client with your API key\n",
    "# genai.configure(api_key=\"your-gemini-api-key\")  # Replace with your real key\n",
    "\n",
    "# Gemini-compatible version of get_completion\n",
    "def get_completion(prompt, model=\"gemini-2.0-flash\"):\n",
    "    model = genai.GenerativeModel(model)\n",
    "    response = model.generate_content(prompt)\n",
    "    return response.text\n"
   ]
  },
  {
   "cell_type": "code",
   "execution_count": null,
   "id": "ecc67d3e",
   "metadata": {},
   "outputs": [],
   "source": [
    "\n",
    "def messages_to_prompt(messages):\n",
    "    \"\"\"\n",
    "    Convert chat-style messages (system/user/assistant) into a single prompt string\n",
    "    for Gemini, which expects plain text prompts.\n",
    "    \"\"\"\n",
    "    prompt_parts = []\n",
    "    for msg in messages:\n",
    "        role = msg['role']\n",
    "        content = msg['content']\n",
    "        if role == 'system':\n",
    "            prompt_parts.append(content + \"\\n\")\n",
    "        elif role == 'user':\n",
    "            prompt_parts.append(f\"User: {content}\")\n",
    "        elif role == 'assistant':\n",
    "            prompt_parts.append(f\"Assistant: {content}\")\n",
    "    prompt_parts.append(\"Assistant:\")  # prompt Gemini to continue as Assistant\n",
    "    return \"\\n\".join(prompt_parts)\n",
    "\n",
    "def get_completion(prompt, model=\"gemini-2.0-flash\"):\n",
    "    \"\"\"\n",
    "    Simple completion from a user prompt string (no chat history)\n",
    "    \"\"\"\n",
    "    model_obj = genai.GenerativeModel(model)\n",
    "    response = model_obj.generate_content(prompt)\n",
    "    return response.text\n"
   ]
  },
  {
   "cell_type": "code",
   "execution_count": 5,
   "id": "0beffea2",
   "metadata": {},
   "outputs": [],
   "source": [
    "messages =  [  \n",
    "# {'role':'user', 'parts':['You are an assistant that speaks like Shakespeare.']},    \n",
    "# {'role':'user', 'parts':['tell me a joke']},   \n",
    "{'role':'assistant', 'parts':['my name is Shakespeare, and I am here to assist thee.']},   \n",
    "{'role':'user', 'parts':['what/s your name again?']}  ]"
   ]
  },
  {
   "cell_type": "code",
   "execution_count": 6,
   "id": "039cddd3",
   "metadata": {},
   "outputs": [
    {
     "name": "stdout",
     "output_type": "stream",
     "text": [
      "Hark, I did just proclaim it! My name is Shakespeare, at thy service.\n",
      "\n"
     ]
    }
   ],
   "source": [
    "\n",
    "response = get_completion(messages)\n",
    "print(response)"
   ]
  },
  {
   "cell_type": "code",
   "execution_count": null,
   "id": "da2cbf06",
   "metadata": {},
   "outputs": [],
   "source": []
  }
 ],
 "metadata": {
  "kernelspec": {
   "display_name": "env (3.9.6)",
   "language": "python",
   "name": "python3"
  },
  "language_info": {
   "codemirror_mode": {
    "name": "ipython",
    "version": 3
   },
   "file_extension": ".py",
   "mimetype": "text/x-python",
   "name": "python",
   "nbconvert_exporter": "python",
   "pygments_lexer": "ipython3",
   "version": "3.9.6"
  }
 },
 "nbformat": 4,
 "nbformat_minor": 5
}
